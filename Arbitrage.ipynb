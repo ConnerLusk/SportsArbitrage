{
 "cells": [
  {
   "cell_type": "code",
   "execution_count": 13,
   "id": "61ba2818",
   "metadata": {},
   "outputs": [],
   "source": [
    "from bs4 import BeautifulSoup\n",
    "import requests\n",
    "from selenium import webdriver\n",
    "from selenium.webdriver.support.ui import WebDriverWait\n",
    "from time import sleep\n",
    "import pandas as pd\n",
    "from selenium.webdriver import ActionChains\n",
    "import urllib.request as urllib\n",
    "from bs4 import BeautifulSoup"
   ]
  },
  {
   "cell_type": "code",
   "execution_count": 14,
   "id": "f62439bc",
   "metadata": {},
   "outputs": [],
   "source": [
    "# load website urls and create a list of urls\n",
    "url_nba_odds = 'https://www.actionnetwork.com/nba/odds'\n",
    "url_nfl_odds = 'https://www.actionnetwork.com/nfl/odds'\n",
    "url_ncaab_odds = 'https://www.actionnetwork.com/ncaab/odds'\n",
    "url_ncaaf_odds = 'https://www.actionnetwork.com/ncaaf/odds'\n",
    "list_url_odds = [url_nba_odds, url_nfl_odds,url_ncaab_odds,url_ncaaf_odds]"
   ]
  },
  {
   "cell_type": "code",
   "execution_count": 15,
   "id": "65d3ad1e",
   "metadata": {},
   "outputs": [
    {
     "name": "stderr",
     "output_type": "stream",
     "text": [
      "<ipython-input-15-275762b50ad7>:1: DeprecationWarning: executable_path has been deprecated, please pass in a Service object\n",
      "  driver = webdriver.Chrome(executable_path='/Users/connerlusk/Downloads/chromedriver')\n",
      "<ipython-input-15-275762b50ad7>:5: DeprecationWarning: find_element_by_* commands are deprecated. Please use find_element() instead\n",
      "  moneyline = driver.find_element_by_xpath(\"//*[@id='__next']/div/main/div/div[3]/div[2]/div[1]/label[3]/input\")\n",
      "<ipython-input-15-275762b50ad7>:6: DeprecationWarning: find_element_by_* commands are deprecated. Please use find_element() instead\n",
      "  spread = driver.find_element_by_xpath(\"//*[@id='__next']/div/main/div/div[3]/div[2]/div[1]/label[1]/input\")\n"
     ]
    }
   ],
   "source": [
    "# use selenium to create list of soup tables\n",
    "driver = webdriver.Chrome(executable_path='/Users/connerlusk/Downloads/chromedriver')\n",
    "list_soup = []\n",
    "for odds in list_url_odds:\n",
    "    driver.get(odds)\n",
    "    moneyline = driver.find_element_by_xpath(\"//*[@id='__next']/div/main/div/div[3]/div[2]/div[1]/label[3]/input\")\n",
    "    spread = driver.find_element_by_xpath(\"//*[@id='__next']/div/main/div/div[3]/div[2]/div[1]/label[1]/input\")\n",
    "    action = ActionChains(driver)\n",
    "    action.click(moneyline)\n",
    "    action.click(spread)\n",
    "    action.perform()\n",
    "    sleep(4)\n",
    "    page = driver.page_source\n",
    "    soup = BeautifulSoup(page, 'lxml')\n",
    "    list_soup.append(soup)"
   ]
  },
  {
   "cell_type": "code",
   "execution_count": 16,
   "id": "6838af0c",
   "metadata": {},
   "outputs": [],
   "source": [
    "# scrapes the soup table\n",
    "def clean_odds(soup):\n",
    "  betting_title = soup.find(class_ = \"custom-1jexfpi e1vl13ep0\" )\n",
    "  betting_odds_title = betting_title.h1.text\n",
    "  the_sport_name = betting_odds_title.split()[0]\n",
    "\n",
    "  odds_list = []\n",
    "\n",
    "  soup_cu = soup.find_all('div', class_='custom-1u3dgby e4ukmj14')\n",
    "\n",
    "  # Finds all tr tag in soup_table\n",
    "  soup_table = soup_cu[0].find_all('tr')\n",
    "  \n",
    "  # list of books on website \n",
    "  book_list = ['Draft Kings', 'Bet MGM', 'Fanduel', 'PointsBet', 'Sugar House', 'Bet365', 'Unibet', 'Caesar' + \"'s \" + 'Sportsbook']\n",
    "\n",
    "  ind_ = 1\n",
    "\n",
    "  for game_ in soup_table[1:]:\n",
    "    # create dicts for odds of each team\n",
    "    team1_odds = dict()\n",
    "    team2_odds = dict()\n",
    "    \n",
    "    # grabs div tag with specified class\n",
    "    team_names = game_.find_all('div', class_='game-info__team')\n",
    "    \n",
    "    # grabs team names from tag as text\n",
    "    name1 = team_names[0].find(class_='game-info__team--desktop').text\n",
    "    name2 = team_names[1].find(class_='game-info__team--desktop').text\n",
    "    \n",
    "    # sets team names in dicts\n",
    "    team1_odds['team'] = name1\n",
    "    team2_odds['team'] = name2\n",
    "\n",
    "    # access tag for game odds \n",
    "    game_layer1 = game_.find_all('td', class_='best-odds__last-type-cell')\n",
    "      \n",
    "    indx = 0\n",
    "\n",
    "    # loops through book odds divided by specified classes\n",
    "    for bookie in game_layer1:\n",
    "      odds_team1 = bookie.find_all('span', \n",
    "                                     class_='highlight-text__children')[0].text\n",
    "      odds_team2 = bookie.find_all('span', \n",
    "                                     class_='highlight-text__children')[-2].text\n",
    "      \n",
    "      # assigns name to dict entry\n",
    "      book = book_list[indx]\n",
    "      team1_odds[book] = odds_team1\n",
    "      team2_odds[book] = odds_team2\n",
    "      indx += 1\n",
    "\n",
    "    ind_+=1\n",
    "\n",
    "    # appends odds info into list\n",
    "    odds_list.append(team1_odds)\n",
    "    odds_list.append(team2_odds)\n",
    "  \n",
    "  # instantiates DataFrame of NBA odds\n",
    "  df_odds = pd.DataFrame(odds_list)\n",
    "  df_odds.columns.name = the_sport_name\n",
    "  #return df_nba_odds\n",
    "  return df_odds"
   ]
  },
  {
   "cell_type": "code",
   "execution_count": 17,
   "id": "34530c48",
   "metadata": {},
   "outputs": [],
   "source": [
    "# get all pandas df\n",
    "odds_final = []\n",
    "for sport in list_soup:\n",
    "    odds_final.append(clean_odds(sport).replace(['N/A'],-100000000))\n"
   ]
  },
  {
   "cell_type": "code",
   "execution_count": 18,
   "id": "0fdedade",
   "metadata": {},
   "outputs": [],
   "source": [
    "# find arbitrgae oppertunities\n",
    "def find_arbitrage(bet_size, data_frame):\n",
    "    bookies = data_frame.columns[1:]\n",
    "    clean_data(data_frame, bookies)\n",
    "    sport = data_frame.columns.name\n",
    "    strings = []\n",
    "    find_odds = []\n",
    "    indx = 0\n",
    "    while indx < len(data_frame):\n",
    "        max_a = data_frame[bookies].iloc[indx].max()\n",
    "        max_b = data_frame[bookies].iloc[indx + 1].max()\n",
    "        if is_arbitrage(max_a, max_b):\n",
    "            indx_sitea = (data_frame.iloc[indx] == max_a).argmax()\n",
    "            team_a = [data_frame.iloc[indx][0],bookies[indx_sitea -1]]\n",
    "            indx_siteb = (data_frame.iloc[indx + 1] == max_b).argmax()\n",
    "            team_b = [data_frame.iloc[indx+1][0],bookies[indx_siteb -1]]\n",
    "            strings.extend(calculate_arbitrage(sport,bet_size,max_a,max_b,team_a,team_b))\n",
    "        indx += 2\n",
    "    return strings"
   ]
  },
  {
   "cell_type": "code",
   "execution_count": 19,
   "id": "1736b4d6",
   "metadata": {},
   "outputs": [],
   "source": [
    "# calcuylate arbitrage oppertunities\n",
    "def calculate_arbitrage(sport_name, bet_size, max_a, max_b,team_a,team_b):\n",
    "    strings = []\n",
    "    implied_prob_a = find_implied_prob(max_a)\n",
    "    implied_prob_b = find_implied_prob(max_b)\n",
    "    implied_prob_tot = implied_prob_a + implied_prob_b\n",
    "    win_percent = round(100 - implied_prob_tot,2)\n",
    "    a_bet = round((bet_size*implied_prob_a)/implied_prob_tot,2)\n",
    "    b_bet = round((bet_size*implied_prob_b)/implied_prob_tot,2)\n",
    "    a_biased_bet_b = round(bet_size / to_decimal(max_b),2)\n",
    "    a_biased_bet_a = round(bet_size - a_biased_bet_b,2)\n",
    "    win_percent_a_biased = (a_biased_bet_a * to_decimal(max_a)) - bet_size\n",
    "    b_biased_bet_a = round(bet_size / to_decimal(max_a),2)\n",
    "    b_biased_bet_b = round(bet_size - b_biased_bet_a,2)\n",
    "    win_percent_b_biased = (b_biased_bet_b * to_decimal(max_b)) - bet_size\n",
    "    if win_percent_a_biased > win_percent_b_biased:\n",
    "        strings.append(sport_name +\" weighted arbitrage oppertunity | Max win percent: \" +str(round(win_percent_a_biased,2))+\"% | \" + team_a[0] + \" \" + \n",
    "                       team_a[1] + \" $\" + str(a_biased_bet_a) +\" | \"+team_b[0] + \" \" + team_b[1] + \" $\" + str(a_biased_bet_b))\n",
    "    else:\n",
    "        strings.append(sport_name +\" weighted arbitrage oppertunity | Max win percent: \" +str(round(win_percent_b_biased,2))+\"% | \" + team_a[0] + \" \" + \n",
    "                       team_a[1] + \" $\" + str(b_biased_bet_a) +\" | \"+team_b[0] + \" \" + team_b[1] + \" $\" + str(b_biased_bet_b))\n",
    "        \n",
    "    strings.append(sport_name + \" arbitrage oppertunity | Max win percent: \" +str(win_percent)+\"% | \" + team_a[0] + \" \" + team_a[1] + \" $\" + str(a_bet) +\" | \"+team_b[0] + \" \" + team_b[1] + \" $\" + str(b_bet))\n",
    "    return strings  "
   ]
  },
  {
   "cell_type": "code",
   "execution_count": 20,
   "id": "2f3014b2",
   "metadata": {},
   "outputs": [],
   "source": [
    "# sees if there is a arbitrage oppertunity between two teams\n",
    "def is_arbitrage(max1, max2):\n",
    "    implied_prob1 = find_implied_prob(max1)\n",
    "    implied_prob2 = find_implied_prob(max2)\n",
    "    return implied_prob1 + implied_prob2 < 100"
   ]
  },
  {
   "cell_type": "code",
   "execution_count": 21,
   "id": "06bb7efc",
   "metadata": {},
   "outputs": [],
   "source": [
    "# finds the implied probability of a team\n",
    "def find_implied_prob(max_num):\n",
    "    if max_num > 0:\n",
    "        return 100 / ((max_num + 100)) * 100\n",
    "    else:\n",
    "        return (-max_num/(-max_num + 100)) * 100"
   ]
  },
  {
   "cell_type": "code",
   "execution_count": 22,
   "id": "457aadf4",
   "metadata": {},
   "outputs": [],
   "source": [
    "# changes american odds to decimal odds\n",
    "def to_decimal(american_odds):\n",
    "    if american_odds > 0:\n",
    "        return (american_odds/100)+1\n",
    "    else:\n",
    "        return 1 + (100/-american_odds)"
   ]
  },
  {
   "cell_type": "code",
   "execution_count": 23,
   "id": "743043ec",
   "metadata": {},
   "outputs": [],
   "source": [
    "# cleans the data\n",
    "def clean_data(data_frame, bookies):\n",
    "    for bookie in bookies:\n",
    "        sport[bookie] = sport[bookie].astype(int)\n",
    "    "
   ]
  },
  {
   "cell_type": "code",
   "execution_count": 24,
   "id": "4a87de4d",
   "metadata": {},
   "outputs": [
    {
     "data": {
      "text/plain": [
       "['NFL weighted arbitrage oppertunity | Max win percent: 1.77% | Giants Sugar House $35.71 | Dolphins Bet365 $64.29',\n",
       " 'NFL arbitrage oppertunity | Max win percent: 0.63% | Giants Sugar House $35.31 | Dolphins Bet365 $64.69',\n",
       " 'NFL weighted arbitrage oppertunity | Max win percent: 10.87% | 49ers PointsBet $56.52 | Seahawks Sugar House $43.48',\n",
       " 'NFL arbitrage oppertunity | Max win percent: 4.26% | 49ers PointsBet $59.04 | Seahawks Sugar House $40.96',\n",
       " 'NCAAB weighted arbitrage oppertunity | Max win percent: 18.17% | Furman Draft Kings $81.82 | High Point Fanduel $18.18',\n",
       " 'NCAAB arbitrage oppertunity | Max win percent: 2.8% | Furman Draft Kings $84.17 | High Point Fanduel $15.83',\n",
       " 'NCAAB weighted arbitrage oppertunity | Max win percent: 2.26% | Prairie View Fanduel $7.41 | SD State PointsBet $92.59',\n",
       " 'NCAAB arbitrage oppertunity | Max win percent: 0.16% | Prairie View Fanduel $7.26 | SD State PointsBet $92.74',\n",
       " 'NCAAB weighted arbitrage oppertunity | Max win percent: 28.33% | NW State Fanduel $3.13 | Houston PointsBet $96.87',\n",
       " 'NCAAB arbitrage oppertunity | Max win percent: 0.69% | NW State Fanduel $2.46 | Houston PointsBet $97.54']"
      ]
     },
     "execution_count": 24,
     "metadata": {},
     "output_type": "execute_result"
    }
   ],
   "source": [
    "# calculates arbitrage oppertunites for all sports\n",
    "final_arbitage = []\n",
    "for sport in odds_final:\n",
    "    final_arbitage.extend(find_arbitrage(100, sport))\n",
    "final_arbitage\n"
   ]
  },
  {
   "cell_type": "code",
   "execution_count": null,
   "id": "20abb8ee",
   "metadata": {},
   "outputs": [],
   "source": []
  },
  {
   "cell_type": "code",
   "execution_count": null,
   "id": "a2e6d3f4",
   "metadata": {},
   "outputs": [],
   "source": []
  }
 ],
 "metadata": {
  "kernelspec": {
   "display_name": "Python 3",
   "language": "python",
   "name": "python3"
  },
  "language_info": {
   "codemirror_mode": {
    "name": "ipython",
    "version": 3
   },
   "file_extension": ".py",
   "mimetype": "text/x-python",
   "name": "python",
   "nbconvert_exporter": "python",
   "pygments_lexer": "ipython3",
   "version": "3.8.8"
  }
 },
 "nbformat": 4,
 "nbformat_minor": 5
}
